{
 "cells": [
  {
   "cell_type": "markdown",
   "metadata": {},
   "source": [
    "### AUDIOVAULT: IMAGE IN AUDIO STEGANOGRAPHY"
   ]
  },
  {
   "cell_type": "code",
   "execution_count": null,
   "metadata": {},
   "outputs": [],
   "source": [
    "%load_ext autoreload\n",
    "%autoreload 2"
   ]
  },
  {
   "cell_type": "code",
   "execution_count": null,
   "metadata": {},
   "outputs": [],
   "source": [
    "from PIL import Image\n",
    "from utils import image_to_bits, check_bits_alteration\n",
    "from embedding import embed_data\n",
    "from extraction import extract_data\n",
    "from config import TWO_BIT_QIM"
   ]
  },
  {
   "cell_type": "code",
   "execution_count": null,
   "metadata": {},
   "outputs": [],
   "source": [
    "#FILE PATHS\n",
    "audio_path = \"audio/orcestral1.wav\"\n",
    "stego_path = \"stego.wav\"\n",
    "secret_data_path = \"images/secret.jpg\"\n",
    "extracted_data_path = \"extracted.png\""
   ]
  },
  {
   "cell_type": "code",
   "execution_count": null,
   "metadata": {},
   "outputs": [],
   "source": [
    "secret_data, secret_shape = image_to_bits(path=secret_data_path)\n",
    "files = [\n",
    "    {\n",
    "        \"file_type\":\"jpg\",\n",
    "        \"height\":secret_shape[0],\n",
    "        \"width\":secret_shape[1],\n",
    "        \"channels\":secret_shape[2],\n",
    "        \"payload_length\":len(secret_data)\n",
    "    }\n",
    "]"
   ]
  },
  {
   "cell_type": "code",
   "execution_count": null,
   "metadata": {},
   "outputs": [],
   "source": [
    "#Embed the secret data\n",
    "embed_data(secret_data=secret_data,files=files,audio_path=audio_path,stego_path=stego_path)"
   ]
  },
  {
   "cell_type": "code",
   "execution_count": null,
   "metadata": {},
   "outputs": [],
   "source": [
    "#Extract the secret data\n",
    "extracted_data = extract_data(audio_path=\"s_cropped.wav\",extracted_data_path=extracted_data_path)"
   ]
  },
  {
   "cell_type": "code",
   "execution_count": null,
   "metadata": {},
   "outputs": [],
   "source": [
    "check_bits_alteration(original=secret_data, extracted=extracted_data)"
   ]
  }
 ],
 "metadata": {
  "kernelspec": {
   "display_name": "myenv",
   "language": "python",
   "name": "python3"
  },
  "language_info": {
   "codemirror_mode": {
    "name": "ipython",
    "version": 3
   },
   "file_extension": ".py",
   "mimetype": "text/x-python",
   "name": "python",
   "nbconvert_exporter": "python",
   "pygments_lexer": "ipython3",
   "version": "3.12.8"
  }
 },
 "nbformat": 4,
 "nbformat_minor": 2
}
