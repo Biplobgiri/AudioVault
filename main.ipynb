{
 "cells": [
  {
   "cell_type": "code",
   "execution_count": 89,
   "metadata": {},
   "outputs": [],
   "source": [
    "import numpy as np\n",
    "import pywt\n",
    "import librosa\n",
    "from scipy.io import wavfile\n",
    "from PIL import Image\n",
    "import sys\n",
    "import soundfile as sf"
   ]
  },
  {
   "cell_type": "code",
   "execution_count": 90,
   "metadata": {},
   "outputs": [],
   "source": [
    "audio_path=\"demo.wav\"\n",
    "stego_path=\"stego.wav\"\n",
    "secret_image_path=\"secret.jpg\"\n",
    "extracted_image_path=\"extracted.jpg\"\n",
    "\n",
    "DELTA=0.001\n",
    "DWT_LEVEL=3\n",
    "WAVELET=\"haar\"\n",
    "seed_left=42\n",
    "seed_right=44"
   ]
  },
  {
   "cell_type": "code",
   "execution_count": 91,
   "metadata": {},
   "outputs": [],
   "source": [
    "def image_to_bits(image_path):\n",
    "  img=Image.open(image_path).convert('RGB')\n",
    "  arr=np.array(img,dtype=np.uint8)\n",
    "  height,width,channels=arr.shape\n",
    "  flatten_arr=arr.flatten()\n",
    "  flatten_arr_bits=np.unpackbits(flatten_arr,)\n",
    "  grouped_flattened=np.char.add(flatten_arr_bits[::2].astype(str),flatten_arr_bits[1::2].astype(str))\n",
    "  return grouped_flattened"
   ]
  },
  {
   "cell_type": "code",
   "execution_count": 92,
   "metadata": {},
   "outputs": [],
   "source": [
    "def bits_to_image(bit_array,img_shape):\n",
    "    bit_array=np.array(bit_array)\n",
    "    return bit_array.reshape(img_shape)"
   ]
  },
  {
   "cell_type": "code",
   "execution_count": 93,
   "metadata": {},
   "outputs": [],
   "source": [
    "def coeff_modification(coeff,embed_value,delta=DELTA):\n",
    "    dither=[i*delta/8 for i in range(1,8,2)]\n",
    "    d=0\n",
    "    if(embed_value==\"00\"):\n",
    "        d= dither[0]\n",
    "    if(embed_value==\"01\"):\n",
    "        d= dither[1]\n",
    "    if(embed_value==\"10\"):\n",
    "        d= dither[2]\n",
    "    if(embed_value==\"11\"):\n",
    "        d= dither[3]\n",
    "    \n",
    "    return delta*np.round((coeff-d)/delta)+d"
   ]
  },
  {
   "cell_type": "code",
   "execution_count": 94,
   "metadata": {},
   "outputs": [],
   "source": [
    "def dwt_on_audio(audio_path,wavelet=WAVELET,dwt_level=DWT_LEVEL):\n",
    "    audio_stereo,sr=librosa.load(audio_path,mono=False)\n",
    "    audio_left=audio_stereo[0]\n",
    "    audio_right=audio_stereo[1]\n",
    "    if(len(audio_left)%2!=0):\n",
    "        audio_left=audio_left[:-1]\n",
    "        audio_right=audio_right[:-1]\n",
    "    \n",
    "    \n",
    "    coeffs_left=pywt.wavedec(audio_left,wavelet,level=dwt_level,mode=\"periodization\")\n",
    "\n",
    "    coeffs_right=pywt.wavedec(audio_right,wavelet,level=dwt_level,mode=\"periodization\")\n",
    "\n",
    "    \n",
    "    return coeffs_left,coeffs_right,sr\n",
    "\n"
   ]
  },
  {
   "cell_type": "code",
   "execution_count": 95,
   "metadata": {},
   "outputs": [],
   "source": [
    "def embedding_function(coeffs,embedding_location,embed_array):\n",
    "    return_coeffs=coeffs\n",
    "    for i,index in enumerate(embedding_location):\n",
    "        return_coeffs[index]=(coeff_modification(coeffs[index],embed_array[i],DELTA))\n",
    "    return return_coeffs"
   ]
  },
  {
   "cell_type": "code",
   "execution_count": 96,
   "metadata": {},
   "outputs": [],
   "source": [
    "def data_split(embedding_data,coeff_len):\n",
    "    embedding_data=np.array(embedding_data)\n",
    "    \n",
    "    cumulative_len=[]\n",
    "    for i in range(1,len(coeff_len)):\n",
    "        cumulative_len.append(sum(coeff_len[:i]))\n",
    "    split_data=np.split(embedding_data,cumulative_len)\n",
    "    return split_data\n",
    "        \n"
   ]
  },
  {
   "cell_type": "code",
   "execution_count": 104,
   "metadata": {},
   "outputs": [
    {
     "name": "stdout",
     "output_type": "stream",
     "text": [
      "19200\n",
      "[array([-2.5115414e-02,  1.2909654e-02, -7.3460117e-04, ...,\n",
      "        6.6544175e-09,  5.3930873e-09,  5.3169041e-10], dtype=float32), array([ 6.4559486e-03,  5.2446658e-03, -2.8306047e-02, ...,\n",
      "       -1.2894787e-09,  1.3846639e-09,  8.3153101e-10], dtype=float32), array([ 8.1895245e-03, -3.0550333e-03, -1.4881852e-02, ...,\n",
      "        5.2224902e-10,  3.9444367e-10,  1.9238562e-10], dtype=float32), array([ 3.0554186e-03,  1.1655008e-03,  8.1843790e-04, ...,\n",
      "       -9.6714281e-09, -1.0411925e-08, -9.7812745e-09], dtype=float32)]\n"
     ]
    }
   ],
   "source": [
    "image_data=image_to_bits(secret_image_path)\n",
    "coeffs_left,coeffs_right,sr=dwt_on_audio(audio_path,WAVELET,DWT_LEVEL)\n",
    "d_coeffs_left=(coeffs_left[1:])\n",
    "d_coeffs_right=(coeffs_right[1:])\n",
    "\n",
    "level_arr=np.arange(0,DWT_LEVEL)\n",
    "\n",
    "possible_locations=sum([arr.shape[0] for arr in d_coeffs_left])\n",
    "\n",
    "payload_len=len(image_data)\n",
    "print(payload_len)\n",
    "\n",
    "coeff_len=[]\n",
    "\n",
    "#print(level_arr)\n",
    "\n",
    "if (payload_len>possible_locations*2):\n",
    "    sys.exit(payload_len)\n",
    "\n",
    "for arr in d_coeffs_left:\n",
    "    coeff_len.append(len(arr))\n",
    "\n",
    "\n",
    "embed_location_left=[]\n",
    "embed_location_right=[]\n",
    "embed_proportion=[]\n",
    "np.random.seed(seed_left)\n",
    "\n",
    "for i in level_arr:\n",
    "    size=int(round((payload_len/2)*1/DWT_LEVEL))\n",
    "    embed_proportion.append(size)\n",
    "    embed_location_left.append(np.random.randint(1,coeff_len[i],size))#proportion to be changed\n",
    "\n",
    "np.random.seed(seed_right)\n",
    "for i in level_arr:\n",
    "    size=int(round((payload_len/2)*1/DWT_LEVEL))\n",
    "\n",
    "    embed_location_right.append(np.random.randint(1,coeff_len[i],size ))\n",
    "\n",
    "image_data_left=image_data[:int(len(image_data)/2)]\n",
    "image_data_right=image_data[int(len(image_data)/2):]\n",
    "\n",
    "\n",
    "split_data_left=data_split(image_data_left,embed_proportion)\n",
    "split_data_right=data_split(image_data_right,embed_proportion)\n",
    "\n",
    "\n",
    "modified_coeffs_left=[]\n",
    "modified_coeffs_right=[]\n",
    "\n",
    "modified_coeffs_left.append(coeffs_left[0])\n",
    "modified_coeffs_right.append(coeffs_right[0])\n",
    "\n",
    "\n",
    "for i in level_arr:\n",
    "    modified_coeffs_left.append(embedding_function(d_coeffs_left[i],embed_location_left[i],split_data_left[i]))\n",
    "    modified_coeffs_right.append(embedding_function(d_coeffs_right[i],embed_location_right[i],split_data_right[i]))\n",
    "\n",
    "print(modified_coeffs_left)\n",
    "\n",
    "#embedding part completed\n",
    "stego_audio_left=pywt.waverec(modified_coeffs_left,WAVELET)\n",
    "stego_audio_right=pywt.waverec(modified_coeffs_right,WAVELET)\n",
    "\n",
    "min_len = min( len(stego_audio_left), len(stego_audio_right))\n",
    "reconstructed_stereo = np.column_stack((stego_audio_left[:min_len], stego_audio_right[:min_len]))\n",
    "\n",
    "sf.write(stego_path,reconstructed_stereo,sr)\n",
    "\n"
   ]
  },
  {
   "cell_type": "code",
   "execution_count": null,
   "metadata": {},
   "outputs": [],
   "source": [
    "#extraction part\n"
   ]
  }
 ],
 "metadata": {
  "kernelspec": {
   "display_name": "ml",
   "language": "python",
   "name": "python3"
  },
  "language_info": {
   "codemirror_mode": {
    "name": "ipython",
    "version": 3
   },
   "file_extension": ".py",
   "mimetype": "text/x-python",
   "name": "python",
   "nbconvert_exporter": "python",
   "pygments_lexer": "ipython3",
   "version": "3.12.8"
  }
 },
 "nbformat": 4,
 "nbformat_minor": 2
}
