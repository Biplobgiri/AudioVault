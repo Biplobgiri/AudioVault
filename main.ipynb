{
 "cells": [
  {
   "cell_type": "code",
   "execution_count": 161,
   "metadata": {},
   "outputs": [],
   "source": [
    "import numpy as np\n",
    "import pywt\n",
    "import librosa\n",
    "from PIL import Image\n",
    "import sys\n",
    "import soundfile as sf"
   ]
  },
  {
   "cell_type": "code",
   "execution_count": 162,
   "metadata": {},
   "outputs": [],
   "source": [
    "audio_path=\"secret.mp3\"\n",
    "stego_path=\"stego.wav\"\n",
    "secret_image_path=\"secret.jpg\"\n",
    "extracted_image_path=\"extracted.jpg\"\n",
    "\n",
    "DELTA=0.001\n",
    "DWT_LEVEL=3\n",
    "WAVELET=\"db1\"\n",
    "seed_left=40\n",
    "seed_right=49"
   ]
  },
  {
   "cell_type": "code",
   "execution_count": 163,
   "metadata": {},
   "outputs": [],
   "source": [
    "def image_to_bits(image_path):\n",
    "  img=Image.open(image_path).convert('RGB')\n",
    "  arr=np.array(img,dtype=np.uint8)\n",
    "  img_shape=arr.shape\n",
    "  flatten_arr=arr.flatten()\n",
    "  flatten_arr_bits=np.unpackbits(flatten_arr)\n",
    "  grouped_flattened=np.char.add(flatten_arr_bits[::2].astype(str),flatten_arr_bits[1::2].astype(str))\n",
    "  return grouped_flattened,img_shape"
   ]
  },
  {
   "cell_type": "code",
   "execution_count": 164,
   "metadata": {},
   "outputs": [],
   "source": [
    "def bits_to_image(bit_array,img_shape):\n",
    "    bit_array=np.array(bit_array)\n",
    "    bit_array=np.packbits(bit_array)\n",
    "    bit_array.reshape(-1,3)\n",
    "    \n",
    "    return bit_array.reshape(img_shape)"
   ]
  },
  {
   "cell_type": "code",
   "execution_count": 165,
   "metadata": {},
   "outputs": [],
   "source": [
    "def coeff_modification(coeff,embed_value,delta=DELTA):\n",
    "    dither=[i*delta/8 for i in range(1,8,2)]\n",
    "    d=0\n",
    "    if(embed_value==\"00\"):\n",
    "        d= dither[0]\n",
    "    if(embed_value==\"01\"):\n",
    "        d= dither[1]\n",
    "    if(embed_value==\"10\"):\n",
    "        d= dither[2]\n",
    "    if(embed_value==\"11\"):\n",
    "        d= dither[3]\n",
    "    \n",
    "    return delta*np.round((coeff-d)/delta)+d"
   ]
  },
  {
   "cell_type": "code",
   "execution_count": 166,
   "metadata": {},
   "outputs": [],
   "source": [
    "def dwt_on_audio(audio_path,wavelet=WAVELET,dwt_level=DWT_LEVEL):\n",
    "    audio_stereo,sr=librosa.load(audio_path,mono=False)\n",
    "    audio_left=audio_stereo[0]\n",
    "    audio_right=audio_stereo[1]\n",
    "    if(len(audio_left)%2!=0):\n",
    "        audio_left=audio_left[:-1]\n",
    "        audio_right=audio_right[:-1]\n",
    "\n",
    "    \n",
    "    \n",
    "    \n",
    "    coeffs_left=pywt.wavedec(audio_left,wavelet,level=dwt_level,mode=\"periodization\")\n",
    "\n",
    "    coeffs_right=pywt.wavedec(audio_right,wavelet,level=dwt_level,mode=\"periodization\")\n",
    "\n",
    "    \n",
    "    return coeffs_left,coeffs_right,sr\n",
    "\n"
   ]
  },
  {
   "cell_type": "code",
   "execution_count": 167,
   "metadata": {},
   "outputs": [],
   "source": [
    "def embedding_function(coeffs,embedding_location,embed_array):\n",
    "    return_coeffs=coeffs\n",
    "    for i,index in enumerate(embedding_location):\n",
    "        return_coeffs[index]=(coeff_modification(coeffs[index],embed_array[i],DELTA))\n",
    "    return return_coeffs"
   ]
  },
  {
   "cell_type": "code",
   "execution_count": 168,
   "metadata": {},
   "outputs": [],
   "source": [
    "def data_split(embedding_data,coeff_len):\n",
    "    embedding_data=np.array(embedding_data)\n",
    "    \n",
    "    cumulative_len=[]\n",
    "    for i in range(1,len(coeff_len)):\n",
    "        cumulative_len.append(sum(coeff_len[:i]))\n",
    "    split_data=np.split(embedding_data,cumulative_len)\n",
    "    return split_data\n"
   ]
  },
  {
   "cell_type": "code",
   "execution_count": null,
   "metadata": {},
   "outputs": [],
   "source": [
    "image_data,img_shape=image_to_bits(secret_image_path)\n",
    "\n",
    "coeffs_left,coeffs_right,sr=dwt_on_audio(audio_path,WAVELET,DWT_LEVEL)\n",
    "d_coeffs_left=(coeffs_left[1:])\n",
    "d_coeffs_right=(coeffs_right[1:])\n",
    "\n",
    "level_arr=np.arange(0,DWT_LEVEL)\n",
    "\n",
    "possible_locations=sum([arr.shape[0] for arr in d_coeffs_left])\n",
    "\n",
    "payload_len=len(image_data)\n",
    "\n",
    "coeff_len=[]\n",
    "\n",
    "if (payload_len>possible_locations*2):\n",
    "    sys.exit(payload_len)\n",
    "\n",
    "for arr in d_coeffs_left:\n",
    "    coeff_len.append(len(arr))\n",
    "\n",
    "\n",
    "embed_location_left=[]\n",
    "embed_location_right=[]\n",
    "embed_proportion=[]\n",
    "np.random.seed(seed_left)\n",
    "\n",
    "total_coeff_sum = sum(coeff_len)\n",
    "\n",
    "for i in level_arr:\n",
    "    size = int(round((coeff_len[i] / total_coeff_sum) * payload_len/2))\n",
    "    embed_proportion.append(size)\n",
    "    embed_location_left.append(np.random.randint(1,coeff_len[i],size=size))\n",
    "\n",
    "np.random.seed(seed_right)\n",
    "\n",
    "\n",
    "for i in level_arr:\n",
    "    size=embed_proportion[i]\n",
    "    embed_location_right.append(np.random.randint(1,coeff_len[i],size=size ))\n",
    "\n",
    "image_data_left=image_data[:int(len(image_data)/2)]\n",
    "image_data_right=image_data[int(len(image_data)/2):]\n",
    "\n",
    "\n",
    "split_data_left=data_split(image_data_left,embed_proportion)\n",
    "split_data_right=data_split(image_data_right,embed_proportion)\n",
    "\n",
    "\n",
    "modified_coeffs_left=[]\n",
    "modified_coeffs_right=[]\n",
    "\n",
    "modified_coeffs_left.append(coeffs_left[0])\n",
    "modified_coeffs_right.append(coeffs_right[0])\n",
    "\n",
    "\n",
    "for i in level_arr:\n",
    "    modified_coeffs_left.append(embedding_function(d_coeffs_left[i],embed_location_left[i],split_data_left[i]))\n",
    "    modified_coeffs_right.append(embedding_function(d_coeffs_right[i],embed_location_right[i],split_data_right[i]))\n",
    "\n",
    "\n",
    "stego_audio_left=pywt.waverec(modified_coeffs_left,WAVELET,mode=\"periodization\")\n",
    "stego_audio_right=pywt.waverec(modified_coeffs_right,WAVELET,mode=\"periodization\")\n",
    "\n",
    "min_len = min( len(stego_audio_left), len(stego_audio_right))\n",
    "reconstructed_stereo = np.column_stack((stego_audio_left[:min_len], stego_audio_right[:min_len]))\n",
    "\n",
    "sf.write(stego_path,reconstructed_stereo,sr)\n",
    "\n"
   ]
  },
  {
   "cell_type": "code",
   "execution_count": 170,
   "metadata": {},
   "outputs": [],
   "source": [
    "def extract_coeff(stego_coeff_val):\n",
    "    dither=[i*DELTA/8 for i in range(1,8,2)]\n",
    "    q=[(DELTA*round((stego_coeff_val-d)/DELTA)+d) for d in dither]\n",
    "    err_val=[abs(stego_coeff_val-q_val) for q_val in q]\n",
    "    min_index=err_val.index(min(err_val))\n",
    "    possible_value=[\"00\",\"01\",\"10\",\"11\"]\n",
    "    return possible_value[min_index]\n",
    "\n",
    "    "
   ]
  },
  {
   "cell_type": "code",
   "execution_count": 171,
   "metadata": {},
   "outputs": [],
   "source": [
    "def extraction_payload(stego_coeff,embedding_location):\n",
    "    extracted_data=[]\n",
    "    # for idx,coeff in enumerate(stego_coeff):\n",
    "    #     for index in embedding_location[idx]:\n",
    "    #         extracted_data.append(extract_coeff(coeff[index]))\n",
    "\n",
    "    extracted_data=[extract_coeff(coeff[index]) for idx,coeff in enumerate(stego_coeff) for index in embedding_location[idx]]\n",
    "    flat_extracted = [int(digit) for binary in extracted_data for digit in binary]\n",
    "    return flat_extracted\n",
    "\n",
    "        "
   ]
  },
  {
   "cell_type": "code",
   "execution_count": null,
   "metadata": {},
   "outputs": [],
   "source": [
    "#extraction part\n",
    "stego_coeff_left,stego_coeff_right,sr=dwt_on_audio(stego_path,WAVELET,DWT_LEVEL)\n",
    "stego_d_left=stego_coeff_left[1:]\n",
    "stego_d_right=stego_coeff_right[1:]\n",
    "\n",
    "extracted_img_left=[extraction_payload(stego_d_left,embed_location_left)]\n",
    "\n",
    "extracted_img_right=[extraction_payload(stego_d_right,embed_location_right)]\n",
    "\n",
    "extracted_img_arr=extracted_img_left+extracted_img_right\n",
    "extracted_img_arr=np.array(extracted_img_arr)\n",
    "\n",
    "extracted_img_flattened=extracted_img_arr.flatten()\n",
    "\n",
    "extracted_image=bits_to_image(extracted_img_flattened,img_shape)\n",
    "\n",
    "stego_img=Image.fromarray(extracted_image)\n",
    "stego_img.save(extracted_image_path)\n",
    "\n",
    "\n",
    "\n",
    "\n",
    "\n",
    "\n",
    "\n",
    "\n"
   ]
  }
 ],
 "metadata": {
  "kernelspec": {
   "display_name": "ml",
   "language": "python",
   "name": "python3"
  },
  "language_info": {
   "codemirror_mode": {
    "name": "ipython",
    "version": 3
   },
   "file_extension": ".py",
   "mimetype": "text/x-python",
   "name": "python",
   "nbconvert_exporter": "python",
   "pygments_lexer": "ipython3",
   "version": "3.12.8"
  }
 },
 "nbformat": 4,
 "nbformat_minor": 2
}
