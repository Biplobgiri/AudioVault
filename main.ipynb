{
 "cells": [
  {
   "cell_type": "markdown",
   "metadata": {},
   "source": [
    "### AUDIOVAULT: IMAGE IN AUDIO STEGANOGRAPHY"
   ]
  },
  {
   "cell_type": "code",
   "execution_count": 1,
   "metadata": {},
   "outputs": [],
   "source": [
    "%load_ext autoreload\n",
    "%autoreload 2"
   ]
  },
  {
   "cell_type": "code",
   "execution_count": 2,
   "metadata": {},
   "outputs": [],
   "source": [
    "from PIL import Image\n",
    "from utils import image_to_bits, check_bits_alteration\n",
    "from embedding import embed_data\n",
    "from extraction import extract_data\n",
    "from config import TWO_BIT_QIM"
   ]
  },
  {
   "cell_type": "code",
   "execution_count": 3,
   "metadata": {},
   "outputs": [],
   "source": [
    "#FILE PATHS\n",
    "audio_path = \"audio/blankspace.wav\"\n",
    "stego_path = \"stego.wav\"\n",
    "secret_data_path = \"images/cover.jpg\"\n",
    "extracted_data_path = \"extracted.png\""
   ]
  },
  {
   "cell_type": "code",
   "execution_count": 4,
   "metadata": {},
   "outputs": [],
   "source": [
    "secret_data, secret_shape = image_to_bits(path=secret_data_path)\n",
    "files = [\n",
    "    {\n",
    "        \"file_type\":\"jpg\",\n",
    "        \"height\":secret_shape[0],\n",
    "        \"width\":secret_shape[1],\n",
    "        \"channels\":secret_shape[2],\n",
    "        \"payload_length\":len(secret_data)\n",
    "    }\n",
    "]"
   ]
  },
  {
   "cell_type": "code",
   "execution_count": 5,
   "metadata": {},
   "outputs": [
    {
     "name": "stdout",
     "output_type": "stream",
     "text": [
      "HEADER BITS: ['0', '0', '0', '0', '0', '0', '0', '1', '0', '1', '1', '1', '0', '0', '0', '0', '0', '0', '0', '1', '0', '1', '1', '0', '1', '0', '1', '0', '0', '1', '1', '1', '0', '0', '0', '0', '0', '1', '1', '0', '0', '1', '1', '1', '0', '0', '1', '0', '0', '0', '0', '0', '0', '0', '1', '1', '0', '1', '0', '1', '0', '1', '0', '1', '0', '1', '0', '1', '0', '0', '0', '0', '0', '0', '0', '0', '1', '1', '0', '0', '0', '0', '0', '0', '0', '1', '1', '0', '0', '0', '1', '1', '1', '1', '1', '1', '0', '1', '1', '0', '0', '0', '0', '0', '0', '0', '0', '0', '0', '0', '1', '0']\n",
      "DECODED HEADER: {'version': 1, 'header_length': 112, 'file_count': 1, 'two_bit_qim': 1, 'files': [{'file_type': 'jpg', 'height': 853, 'width': 1280, 'channels': 3, 'payload_length': 26204160}]}\n",
      "Frame Size: 7075179\n",
      "TOTAL FRAMES: 2\n",
      "Payload Capacity: 13265920 and Payload Length: 13102080\n",
      "Payload Capacity: 11252530 and Payload Length: 13102080\n",
      "Payload length (13102080) exceeds available valid embedding locations (11252530) in the current frame 2.\n",
      "['1' '0' '1' '0' '1' '0' '1' '0' '1' '0' '1' '0' '1' '0' '1' '0' '0' '0'\n",
      " '0' '0' '0' '0' '0' '0' '0' '1' '1' '0' '1' '0' '1' '1' '1' '1' '1' '1'\n",
      " '0' '1' '0' '1' '0' '1' '1' '0' '1' '0' '1' '1']\n",
      "['1' '0' '1' '0' '1' '0' '1' '0' '1' '0' '1' '0' '1' '0' '1' '0' '0' '0'\n",
      " '0' '0' '0' '0' '0' '0' '0' '1' '1' '0' '1' '0' '1' '1' '1' '1' '1' '1'\n",
      " '0' '1' '0' '1' '0' '1' '1' '0' '1' '0' '1' '1']\n"
     ]
    }
   ],
   "source": [
    "#Embed the secret data\n",
    "embed_data(secret_data=secret_data,files=files,audio_path=audio_path,stego_path=stego_path)"
   ]
  },
  {
   "cell_type": "code",
   "execution_count": null,
   "metadata": {},
   "outputs": [
    {
     "ename": "KeyboardInterrupt",
     "evalue": "",
     "output_type": "error",
     "traceback": [
      "\u001b[1;31m---------------------------------------------------------------------------\u001b[0m",
      "\u001b[1;31mKeyboardInterrupt\u001b[0m                         Traceback (most recent call last)",
      "Cell \u001b[1;32mIn[10], line 2\u001b[0m\n\u001b[0;32m      1\u001b[0m \u001b[38;5;66;03m#Extract the secret data\u001b[39;00m\n\u001b[1;32m----> 2\u001b[0m extracted_data \u001b[38;5;241m=\u001b[39m \u001b[43mextract_data\u001b[49m\u001b[43m(\u001b[49m\u001b[43maudio_path\u001b[49m\u001b[38;5;241;43m=\u001b[39;49m\u001b[38;5;124;43m\"\u001b[39;49m\u001b[38;5;124;43muploads/song.wav\u001b[39;49m\u001b[38;5;124;43m\"\u001b[39;49m\u001b[43m,\u001b[49m\u001b[43mextracted_data_path\u001b[49m\u001b[38;5;241;43m=\u001b[39;49m\u001b[43mextracted_data_path\u001b[49m\u001b[43m)\u001b[49m\n",
      "File \u001b[1;32mc:\\Users\\thebi\\Desktop\\AudioVault\\extraction.py:80\u001b[0m, in \u001b[0;36mextract_data\u001b[1;34m(audio_path, extracted_data_path)\u001b[0m\n\u001b[0;32m     79\u001b[0m \u001b[38;5;28;01mdef\u001b[39;00m\u001b[38;5;250m \u001b[39m\u001b[38;5;21mextract_data\u001b[39m(audio_path,extracted_data_path):\n\u001b[1;32m---> 80\u001b[0m     stego_dwt_coeffs_left, stego_dwt_coeffs_right\u001b[38;5;241m=\u001b[39m\u001b[43mget_synced_start\u001b[49m\u001b[43m(\u001b[49m\u001b[43maudio_path\u001b[49m\u001b[38;5;241;43m=\u001b[39;49m\u001b[43maudio_path\u001b[49m\u001b[43m,\u001b[49m\u001b[43mwavelet\u001b[49m\u001b[38;5;241;43m=\u001b[39;49m\u001b[43mWAVELET\u001b[49m\u001b[43m,\u001b[49m\u001b[43mdwt_level\u001b[49m\u001b[38;5;241;43m=\u001b[39;49m\u001b[43mDWT_LEVEL\u001b[49m\u001b[43m)\u001b[49m\n\u001b[0;32m     82\u001b[0m     stego_detail_coeffs_left \u001b[38;5;241m=\u001b[39m stego_dwt_coeffs_left[\u001b[38;5;241m1\u001b[39m:] \u001b[38;5;66;03m#Gives an array of array of different level of detail coeffs\u001b[39;00m\n\u001b[0;32m     83\u001b[0m     stego_detail_coeffs_right \u001b[38;5;241m=\u001b[39m stego_dwt_coeffs_right[\u001b[38;5;241m1\u001b[39m:]\n",
      "File \u001b[1;32mc:\\Users\\thebi\\Desktop\\AudioVault\\extraction.py:46\u001b[0m, in \u001b[0;36mget_synced_start\u001b[1;34m(audio_path, wavelet, dwt_level)\u001b[0m\n\u001b[0;32m     43\u001b[0m sync_bits \u001b[38;5;241m=\u001b[39m group_bits(SYNC_BITS)\n\u001b[0;32m     45\u001b[0m \u001b[38;5;28;01mfor\u001b[39;00m i, coeff \u001b[38;5;129;01min\u001b[39;00m \u001b[38;5;28menumerate\u001b[39m(audio_left):\n\u001b[1;32m---> 46\u001b[0m     bit \u001b[38;5;241m=\u001b[39m \u001b[43mextract_secret_value\u001b[49m\u001b[43m(\u001b[49m\u001b[43mcoeff\u001b[49m\u001b[43m,\u001b[49m\u001b[43m \u001b[49m\u001b[43mtwo_bit_qim\u001b[49m\u001b[38;5;241;43m=\u001b[39;49m\u001b[43mTWO_BIT_QIM\u001b[49m\u001b[43m,\u001b[49m\u001b[43m \u001b[49m\u001b[43mdelta\u001b[49m\u001b[38;5;241;43m=\u001b[39;49m\u001b[43mDELTA\u001b[49m\u001b[43m)\u001b[49m\n\u001b[0;32m     47\u001b[0m     bits_accumulated\u001b[38;5;241m.\u001b[39mappend(bit)\n\u001b[0;32m     49\u001b[0m     \u001b[38;5;28;01mif\u001b[39;00m \u001b[38;5;28mlen\u001b[39m(bits_accumulated) \u001b[38;5;241m>\u001b[39m \u001b[38;5;28mlen\u001b[39m(sync_bits):\n",
      "File \u001b[1;32mc:\\Users\\thebi\\Desktop\\AudioVault\\extraction.py:19\u001b[0m, in \u001b[0;36mextract_secret_value\u001b[1;34m(stego_coeff, two_bit_qim, delta)\u001b[0m\n\u001b[0;32m     16\u001b[0m \u001b[38;5;28;01melse\u001b[39;00m:\n\u001b[0;32m     17\u001b[0m     possible_values\u001b[38;5;241m=\u001b[39m[\u001b[38;5;124m\"\u001b[39m\u001b[38;5;124m0\u001b[39m\u001b[38;5;124m\"\u001b[39m,\u001b[38;5;124m\"\u001b[39m\u001b[38;5;124m1\u001b[39m\u001b[38;5;124m\"\u001b[39m]\n\u001b[1;32m---> 19\u001b[0m q \u001b[38;5;241m=\u001b[39m [(delta \u001b[38;5;241m*\u001b[39m \u001b[43mnp\u001b[49m\u001b[38;5;241;43m.\u001b[39;49m\u001b[43mround\u001b[49m\u001b[43m(\u001b[49m\u001b[43m(\u001b[49m\u001b[43mstego_coeff\u001b[49m\u001b[43m \u001b[49m\u001b[38;5;241;43m-\u001b[39;49m\u001b[43m \u001b[49m\u001b[43mdither\u001b[49m\u001b[43m)\u001b[49m\u001b[38;5;241;43m/\u001b[39;49m\u001b[43mdelta\u001b[49m\u001b[43m)\u001b[49m \u001b[38;5;241m+\u001b[39m dither) \u001b[38;5;28;01mfor\u001b[39;00m dither \u001b[38;5;129;01min\u001b[39;00m dithers]\n\u001b[0;32m     20\u001b[0m error_value \u001b[38;5;241m=\u001b[39m [\u001b[38;5;28mabs\u001b[39m(stego_coeff \u001b[38;5;241m-\u001b[39m q_value) \u001b[38;5;28;01mfor\u001b[39;00m q_value \u001b[38;5;129;01min\u001b[39;00m q]\n\u001b[0;32m     21\u001b[0m min_index \u001b[38;5;241m=\u001b[39m error_value\u001b[38;5;241m.\u001b[39mindex(\u001b[38;5;28mmin\u001b[39m(error_value))\n",
      "File \u001b[1;32mc:\\Users\\thebi\\Desktop\\AudioVault\\myenv\\Lib\\site-packages\\numpy\\_core\\fromnumeric.py:3758\u001b[0m, in \u001b[0;36mround\u001b[1;34m(a, decimals, out)\u001b[0m\n\u001b[0;32m   3666\u001b[0m \u001b[38;5;129m@array_function_dispatch\u001b[39m(_round_dispatcher)\n\u001b[0;32m   3667\u001b[0m \u001b[38;5;28;01mdef\u001b[39;00m\u001b[38;5;250m \u001b[39m\u001b[38;5;21mround\u001b[39m(a, decimals\u001b[38;5;241m=\u001b[39m\u001b[38;5;241m0\u001b[39m, out\u001b[38;5;241m=\u001b[39m\u001b[38;5;28;01mNone\u001b[39;00m):\n\u001b[0;32m   3668\u001b[0m \u001b[38;5;250m    \u001b[39m\u001b[38;5;124;03m\"\"\"\u001b[39;00m\n\u001b[0;32m   3669\u001b[0m \u001b[38;5;124;03m    Evenly round to the given number of decimals.\u001b[39;00m\n\u001b[0;32m   3670\u001b[0m \n\u001b[1;32m   (...)\u001b[0m\n\u001b[0;32m   3756\u001b[0m \n\u001b[0;32m   3757\u001b[0m \u001b[38;5;124;03m    \"\"\"\u001b[39;00m\n\u001b[1;32m-> 3758\u001b[0m     \u001b[38;5;28;01mreturn\u001b[39;00m \u001b[43m_wrapfunc\u001b[49m\u001b[43m(\u001b[49m\u001b[43ma\u001b[49m\u001b[43m,\u001b[49m\u001b[43m \u001b[49m\u001b[38;5;124;43m'\u001b[39;49m\u001b[38;5;124;43mround\u001b[39;49m\u001b[38;5;124;43m'\u001b[39;49m\u001b[43m,\u001b[49m\u001b[43m \u001b[49m\u001b[43mdecimals\u001b[49m\u001b[38;5;241;43m=\u001b[39;49m\u001b[43mdecimals\u001b[49m\u001b[43m,\u001b[49m\u001b[43m \u001b[49m\u001b[43mout\u001b[49m\u001b[38;5;241;43m=\u001b[39;49m\u001b[43mout\u001b[49m\u001b[43m)\u001b[49m\n",
      "File \u001b[1;32mc:\\Users\\thebi\\Desktop\\AudioVault\\myenv\\Lib\\site-packages\\numpy\\_core\\fromnumeric.py:51\u001b[0m, in \u001b[0;36m_wrapfunc\u001b[1;34m(obj, method, *args, **kwds)\u001b[0m\n\u001b[0;32m     46\u001b[0m     result \u001b[38;5;241m=\u001b[39m \u001b[38;5;28mgetattr\u001b[39m(arr, method)(\u001b[38;5;241m*\u001b[39margs, \u001b[38;5;241m*\u001b[39m\u001b[38;5;241m*\u001b[39mkwds)\n\u001b[0;32m     48\u001b[0m     \u001b[38;5;28;01mreturn\u001b[39;00m conv\u001b[38;5;241m.\u001b[39mwrap(result, to_scalar\u001b[38;5;241m=\u001b[39m\u001b[38;5;28;01mFalse\u001b[39;00m)\n\u001b[1;32m---> 51\u001b[0m \u001b[38;5;28;01mdef\u001b[39;00m\u001b[38;5;250m \u001b[39m\u001b[38;5;21m_wrapfunc\u001b[39m(obj, method, \u001b[38;5;241m*\u001b[39margs, \u001b[38;5;241m*\u001b[39m\u001b[38;5;241m*\u001b[39mkwds):\n\u001b[0;32m     52\u001b[0m     bound \u001b[38;5;241m=\u001b[39m \u001b[38;5;28mgetattr\u001b[39m(obj, method, \u001b[38;5;28;01mNone\u001b[39;00m)\n\u001b[0;32m     53\u001b[0m     \u001b[38;5;28;01mif\u001b[39;00m bound \u001b[38;5;129;01mis\u001b[39;00m \u001b[38;5;28;01mNone\u001b[39;00m:\n",
      "\u001b[1;31mKeyboardInterrupt\u001b[0m: "
     ]
    }
   ],
   "source": [
    "#Extract the secret data\n",
    "extracted_data = extract_data(audio_path=stego_path,extracted_data_path=extracted_data_path)"
   ]
  },
  {
   "cell_type": "code",
   "execution_count": 7,
   "metadata": {},
   "outputs": [
    {
     "name": "stdout",
     "output_type": "stream",
     "text": [
      "Mismatch location: 703174\n",
      "Mismatch location: 703175\n",
      "Mismatch location: 725121\n",
      "Mismatch location: 873374\n",
      "Mismatch location: 873379\n",
      "Mismatch location: 873380\n",
      "Mismatch location: 873381\n",
      "Mismatch location: 873382\n",
      "Mismatch location: 873384\n",
      "Mismatch location: 873386\n",
      "Mismatch location: 873387\n",
      "Mismatch location: 873388\n",
      "Mismatch location: 873389\n",
      "Mismatch location: 873390\n",
      "Mismatch location: 873391\n",
      "Mismatch location: 873393\n",
      "Mismatch location: 873394\n",
      "Mismatch location: 873396\n",
      "Mismatch location: 873400\n",
      "Mismatch location: 873401\n",
      "Mismatch location: 873402\n",
      "Mismatch location: 873404\n",
      "Mismatch location: 873405\n",
      "Mismatch location: 873407\n",
      "Mismatch location: 873409\n",
      "Mismatch location: 873410\n",
      "Mismatch location: 873411\n",
      "Mismatch location: 873412\n",
      "Mismatch location: 873413\n",
      "Mismatch location: 873414\n",
      "Mismatch location: 873415\n",
      "Mismatch location: 873417\n",
      "Mismatch location: 873419\n",
      "Mismatch location: 873420\n",
      "Mismatch location: 873422\n",
      "Mismatch location: 873424\n",
      "Mismatch location: 873425\n",
      "Mismatch location: 873426\n",
      "Mismatch location: 873428\n",
      "Mismatch location: 873429\n",
      "Mismatch location: 873430\n",
      "Mismatch location: 873431\n",
      "Mismatch location: 873432\n",
      "Mismatch location: 873436\n",
      "Mismatch location: 873439\n",
      "Mismatch location: 873440\n",
      "Mismatch location: 873443\n",
      "Mismatch location: 873444\n",
      "Mismatch location: 873447\n",
      "Mismatch location: 873451\n",
      "Mismatch location: 873452\n",
      "Mismatch location: 873453\n",
      "Mismatch location: 873454\n",
      "Mismatch location: 873455\n",
      "Mismatch location: 873457\n",
      "Mismatch location: 873461\n",
      "Mismatch location: 873465\n",
      "Mismatch location: 873467\n",
      "Mismatch location: 873468\n",
      "Mismatch location: 873472\n",
      "Mismatch location: 1484922\n",
      "Mismatch location: 1484923\n",
      "Mismatch location: 1884101\n",
      "Mismatch location: 5256963\n",
      "Mismatch location: 5463845\n",
      "Mismatch location: 7201922\n",
      "Mismatch location: 7201923\n",
      "Mismatch location: 10584705\n",
      "Mismatch location: 13248483\n",
      "Mismatch location: 13534235\n",
      "Mismatch location: 14046166\n",
      "Mismatch location: 14046167\n",
      "Mismatch location: 14527034\n",
      "Mismatch location: 15722401\n",
      "Mismatch location: 15722409\n",
      "Mismatch location: 15722410\n",
      "Mismatch location: 15722411\n",
      "Mismatch location: 19216298\n",
      "Mismatch location: 19216300\n",
      "Mismatch location: 19216302\n",
      "Mismatch location: 19216304\n",
      "Mismatch location: 19216311\n",
      "Mismatch location: 19216312\n",
      "Mismatch location: 19216315\n",
      "Mismatch location: 19216316\n",
      "Mismatch location: 19216317\n",
      "Mismatch location: 19216319\n",
      "Mismatch location: 19216320\n",
      "Mismatch location: 19216323\n",
      "Mismatch location: 19216324\n",
      "Mismatch location: 19216326\n",
      "Mismatch location: 20309219\n",
      "Mismatch location: 25750887\n",
      "Mismatch location: 26204104\n",
      "Mismatch location: 26204106\n",
      "Mismatch location: 26204108\n",
      "Mismatch location: 26204112\n",
      "Mismatch location: 26204116\n",
      "Mismatch location: 26204119\n",
      "Mismatch location: 26204120\n",
      "Mismatch location: 26204121\n",
      "Mismatch location: 26204123\n",
      "Mismatch location: 26204126\n",
      "Mismatch location: 26204128\n",
      "Mismatch location: 26204130\n",
      "Mismatch location: 26204134\n",
      "Mismatch location: 26204135\n",
      "Mismatch location: 26204136\n",
      "Mismatch location: 26204137\n",
      "Mismatch location: 26204139\n",
      "Mismatch location: 26204140\n",
      "Mismatch location: 26204143\n",
      "Mismatch location: 26204144\n",
      "Mismatch location: 26204146\n",
      "Mismatch location: 26204147\n",
      "Mismatch location: 26204152\n",
      "Mismatch location: 26204153\n",
      "Mismatch location: 26204155\n",
      "Mismatch location: 26204156\n",
      "Mismatch location: 26204157\n",
      "Mismatch location: 26204159\n",
      "Number of mismatched bits:121\n"
     ]
    }
   ],
   "source": [
    "check_bits_alteration(original=secret_data, extracted=extracted_data)"
   ]
  }
 ],
 "metadata": {
  "kernelspec": {
   "display_name": "myenv",
   "language": "python",
   "name": "python3"
  },
  "language_info": {
   "codemirror_mode": {
    "name": "ipython",
    "version": 3
   },
   "file_extension": ".py",
   "mimetype": "text/x-python",
   "name": "python",
   "nbconvert_exporter": "python",
   "pygments_lexer": "ipython3",
   "version": "3.12.8"
  }
 },
 "nbformat": 4,
 "nbformat_minor": 2
}
