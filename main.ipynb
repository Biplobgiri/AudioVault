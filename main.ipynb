{
 "cells": [
  {
   "cell_type": "markdown",
   "metadata": {},
   "source": [
    "### AUDIOVAULT: IMAGE IN AUDIO STEGANOGRAPHY"
   ]
  },
  {
   "cell_type": "code",
   "execution_count": 1,
   "metadata": {},
   "outputs": [],
   "source": [
    "%load_ext autoreload\n",
    "%autoreload 2"
   ]
  },
  {
   "cell_type": "code",
   "execution_count": 2,
   "metadata": {},
   "outputs": [],
   "source": [
    "from PIL import Image\n",
    "from utils import image_to_bits, check_bits_alteration\n",
    "from embedding import embed_data\n",
    "from extraction import extract_data\n",
    "from config import TWO_BIT_QIM"
   ]
  },
  {
   "cell_type": "code",
   "execution_count": 3,
   "metadata": {},
   "outputs": [],
   "source": [
    "#FILE PATHS\n",
    "audio_path = \"audio/blankspace.wav\"\n",
    "stego_path = \"stego.wav\"\n",
    "secret_data_path = \"images/secret.jpg\"\n",
    "extracted_data_path = \"extracted.png\""
   ]
  },
  {
   "cell_type": "code",
   "execution_count": 4,
   "metadata": {},
   "outputs": [],
   "source": [
    "secret_data, secret_shape = image_to_bits(path=secret_data_path)\n",
    "files = [\n",
    "    {\n",
    "        \"file_type\":\"jpg\",\n",
    "        \"height\":secret_shape[0],\n",
    "        \"width\":secret_shape[1],\n",
    "        \"channels\":secret_shape[2],\n",
    "        \"payload_length\":len(secret_data)\n",
    "    }\n",
    "]"
   ]
  },
  {
   "cell_type": "code",
   "execution_count": 5,
   "metadata": {},
   "outputs": [
    {
     "name": "stdout",
     "output_type": "stream",
     "text": [
      "HEADER BITS: ['0', '0', '0', '0', '0', '0', '0', '1', '0', '1', '1', '1', '0', '0', '0', '0', '0', '0', '0', '1', '0', '1', '1', '0', '1', '0', '1', '0', '0', '1', '1', '1', '0', '0', '0', '0', '0', '1', '1', '0', '0', '1', '1', '1', '0', '0', '1', '0', '0', '0', '0', '0', '0', '0', '0', '1', '1', '0', '1', '0', '1', '0', '1', '1', '0', '0', '1', '0', '1', '0', '0', '0', '0', '0', '0', '0', '1', '1', '0', '0', '0', '0', '0', '0', '0', '0', '0', '1', '1', '0', '0', '1', '0', '0', '0', '0', '0', '1', '0', '1', '0', '0', '0', '0', '0', '0', '0', '0', '0', '0', '1', '0']\n",
      "DECODED HEADER: {'version': 1, 'header_length': 112, 'file_count': 1, 'two_bit_qim': 1, 'files': [{'file_type': 'jpg', 'height': 427, 'width': 640, 'channels': 3, 'payload_length': 6558720}]}\n",
      "TOTAL FRAMES: 6\n",
      "Payload Capacity: 3749986 and Payload Length: 3279360\n",
      "Payload Capacity: 3749986 and Payload Length: 3279360\n",
      "Payload Capacity: 3749986 and Payload Length: 3279360\n",
      "Payload Capacity: 3749986 and Payload Length: 3279360\n",
      "Payload Capacity: 3749986 and Payload Length: 3279360\n",
      "Payload Capacity: 3749986 and Payload Length: 3279360\n",
      "[ 3.59730016e-04 -9.56854953e-05  5.56700731e-04 ...  2.77345724e-02\n",
      "  2.93322316e-02  3.04659117e-02] [0.0003125 0.0003125 0.0003125 0.0003125 0.0003125 0.0003125 0.0003125\n",
      " 0.0003125]\n",
      "[-0.00018167 -0.00012893  0.00028893 ...  0.07276029  0.07148552\n",
      "  0.06994002] [0. 0. 0. 0. 0. 0. 0. 0.]\n",
      "[0.0003125  0.0003125  0.0003125  ... 0.02773457 0.02933223 0.03046591] [-0.1996875 -0.2196875 -0.2386875 -0.2496875 -0.2506875 -0.2516875\n",
      " -0.2526875 -0.2516875]\n",
      "[0.         0.         0.         ... 0.07276029 0.07148552 0.06994002] [-0.13122559 -0.13787842 -0.14852905 -0.16296387 -0.1763916  -0.18630981\n",
      " -0.18609619 -0.18395996]\n",
      "[0.0003125  0.0003125  0.0003125  ... 0.02773457 0.02933223 0.03046591] [-0.4946875 -0.5016875 -0.4896875 -0.4786875 -0.4726875 -0.4576875\n",
      " -0.4616875 -0.4776875]\n",
      "[0.         0.         0.         ... 0.07276029 0.07148552 0.06994002] [-0.12234497 -0.16638184 -0.1946106  -0.20812988 -0.20404053 -0.19338989\n",
      " -0.20587158 -0.22906494]\n",
      "[0.0003125  0.0003125  0.0003125  ... 0.02773457 0.02933223 0.03046591] [-0.0396875  0.0893125  0.1113125  0.0523125  0.0073125  0.0043125\n",
      " -0.0106875 -0.0636875]\n",
      "[0.         0.         0.         ... 0.07276029 0.07148552 0.06994002] [0.09237671 0.27755737 0.28286743 0.19046021 0.14541626 0.16729736\n",
      " 0.16339111 0.09017944]\n",
      "[0.0003125  0.0003125  0.0003125  ... 0.02773457 0.02933223 0.03046591] [-0.3686875 -0.3776875 -0.4486875 -0.5176875 -0.5356875 -0.5756875\n",
      " -0.6436875 -0.6746875]\n",
      "[0.         0.         0.         ... 0.07276029 0.07148552 0.06994002] [-0.04074097 -0.03652954 -0.03140259 -0.05914307 -0.08023071 -0.07623291\n",
      " -0.07919312 -0.10415649]\n",
      "[0.0003125  0.0003125  0.0003125  ... 0.02773457 0.02933223 0.03046591] [ 0.0553125 -0.0036875 -0.0396875 -0.0426875 -0.0246875  0.0313125\n",
      "  0.0713125  0.0323125]\n",
      "[0.         0.         0.         ... 0.07276029 0.07148552 0.06994002] [-0.05148315 -0.23132324 -0.38977051 -0.4442749  -0.45446777 -0.46282959\n",
      " -0.46484375 -0.48999023]\n"
     ]
    }
   ],
   "source": [
    "#Embed the secret data\n",
    "embed_data(secret_data=secret_data,files=files,audio_path=audio_path,stego_path=stego_path)"
   ]
  },
  {
   "cell_type": "code",
   "execution_count": null,
   "metadata": {},
   "outputs": [
    {
     "name": "stdout",
     "output_type": "stream",
     "text": [
      "Sync Bits Matched at index: 7\n",
      "------CHECKING HEADER BITS - EXTRACTION----------\n",
      "['0', '0', '0', '0', '0', '0', '0', '1', '0', '1', '1', '1', '0', '0', '0', '0', '0', '0', '0', '1', '0', '1', '1', '0', '1', '0', '1', '0', '0', '1', '1', '1', '0', '0', '0', '0', '0', '1', '1', '0', '0', '1', '1', '1', '0', '0', '1', '0', '0', '0', '0', '0', '0', '0', '0', '1', '1', '0', '1', '0', '1', '0', '1', '1', '0', '0', '1', '0', '1', '0', '0', '0', '0', '0', '0', '0', '1', '1', '0', '0', '0', '0', '0', '0', '0', '0', '0', '1', '1', '0', '0', '1', '0', '0', '0', '0', '0', '1', '0', '1', '0', '0', '0', '0', '0', '0', '0', '0', '0', '0', '1', '0']\n",
      "------END OF CHECKING HEADER BITS - EXTRACTION----------\n",
      "------CHECKING DECODED HEADER - EXTRACTION----------\n",
      "{'version': 1, 'header_length': 112, 'file_count': 1, 'two_bit_qim': 1, 'files': [{'file_type': 'jpg', 'height': 427, 'width': 640, 'channels': 3, 'payload_length': 6558720}]}\n",
      "------END OF CHECKING DECODED HEADER - EXTRACTION----------\n",
      "Extracted Data Length:3279360\n"
     ]
    },
    {
     "ename": "",
     "evalue": "",
     "output_type": "error",
     "traceback": [
      "\u001b[1;31mThe Kernel crashed while executing code in the current cell or a previous cell. \n",
      "\u001b[1;31mPlease review the code in the cell(s) to identify a possible cause of the failure. \n",
      "\u001b[1;31mClick <a href='https://aka.ms/vscodeJupyterKernelCrash'>here</a> for more info. \n",
      "\u001b[1;31mView Jupyter <a href='command:jupyter.viewOutput'>log</a> for further details."
     ]
    }
   ],
   "source": [
    "#Extract the secret data\n",
    "extracted_data = extract_data(audio_path=stego_path,extracted_data_path=extracted_data_path)"
   ]
  },
  {
   "cell_type": "code",
   "execution_count": null,
   "metadata": {},
   "outputs": [],
   "source": [
    "# check_bits_alteration(original=secret_data, extracted=extracted_data)\n",
    "print(secret_data[:40])\n",
    "print(extracted_data[:40])"
   ]
  }
 ],
 "metadata": {
  "kernelspec": {
   "display_name": "myenv",
   "language": "python",
   "name": "python3"
  },
  "language_info": {
   "codemirror_mode": {
    "name": "ipython",
    "version": 3
   },
   "file_extension": ".py",
   "mimetype": "text/x-python",
   "name": "python",
   "nbconvert_exporter": "python",
   "pygments_lexer": "ipython3",
   "version": "3.12.8"
  }
 },
 "nbformat": 4,
 "nbformat_minor": 2
}
