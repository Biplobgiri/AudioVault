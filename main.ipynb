{
 "cells": [
  {
   "cell_type": "markdown",
   "metadata": {},
   "source": [
    "### AUDIOVAULT: IMAGE IN AUDIO STEGANOGRAPHY"
   ]
  },
  {
   "cell_type": "code",
   "execution_count": 1,
   "metadata": {},
   "outputs": [],
   "source": [
    "%load_ext autoreload\n",
    "%autoreload 2"
   ]
  },
  {
   "cell_type": "code",
   "execution_count": 2,
   "metadata": {},
   "outputs": [],
   "source": [
    "from PIL import Image\n",
    "from utils import image_to_bits, check_bits_alteration\n",
    "from embedding import embed_data\n",
    "from extraction import extract_data\n",
    "from config import TWO_BIT_QIM"
   ]
  },
  {
   "cell_type": "code",
   "execution_count": 3,
   "metadata": {},
   "outputs": [],
   "source": [
    "#FILE PATHS\n",
    "audio_path = \"audio/orcestral1.wav\"\n",
    "stego_path = \"stego.wav\"\n",
    "secret_data_path = \"images/secret.jpg\"\n",
    "extracted_data_path = \"extracted.png\""
   ]
  },
  {
   "cell_type": "code",
   "execution_count": 4,
   "metadata": {},
   "outputs": [],
   "source": [
    "secret_data, secret_shape = image_to_bits(path=secret_data_path)\n",
    "files = [\n",
    "    {\n",
    "        \"file_type\":\"jpg\",\n",
    "        \"height\":secret_shape[0],\n",
    "        \"width\":secret_shape[1],\n",
    "        \"channels\":secret_shape[2],\n",
    "        \"payload_length\":len(secret_data)\n",
    "    }\n",
    "]"
   ]
  },
  {
   "cell_type": "code",
   "execution_count": 5,
   "metadata": {},
   "outputs": [
    {
     "name": "stdout",
     "output_type": "stream",
     "text": [
      "HEADER BITS: ['0', '0', '0', '0', '0', '0', '0', '1', '0', '1', '1', '1', '0', '0', '0', '0', '0', '0', '0', '1', '0', '1', '1', '0', '1', '0', '1', '0', '0', '1', '1', '1', '0', '0', '0', '0', '0', '1', '1', '0', '0', '1', '1', '1', '0', '0', '1', '0', '0', '0', '0', '0', '0', '0', '0', '1', '1', '0', '1', '0', '1', '0', '1', '1', '0', '0', '1', '0', '1', '0', '0', '0', '0', '0', '0', '0', '1', '1', '0', '0', '0', '0', '0', '0', '0', '0', '0', '1', '1', '0', '0', '1', '0', '0', '0', '0', '0', '1', '0', '1', '0', '0', '0', '0', '0', '0', '0', '0', '0', '0', '1', '0']\n",
      "DECODED HEADER: {'version': 1, 'header_length': 112, 'file_count': 1, 'two_bit_qim': 1, 'files': [{'file_type': 'jpg', 'height': 427, 'width': 640, 'channels': 3, 'payload_length': 6558720}]}\n",
      "Frame Size: 1770910\n",
      "TOTAL FRAMES: 5\n",
      "Payload Capacity: 3320414 and Payload Length: 3279360\n",
      "Payload Capacity: 3320414 and Payload Length: 3279360\n",
      "Payload Capacity: 3320414 and Payload Length: 3279360\n",
      "Payload Capacity: 3320414 and Payload Length: 3279360\n",
      "Payload Capacity: 2710410 and Payload Length: 3279360\n",
      "Payload length (3279360) exceeds available valid embedding locations (2710410) in the current frame 5.\n",
      "['1' '0' '1' '0' '1' '0' '1' '0' '1' '0' '1' '0' '1' '0' '1' '0' '0' '0'\n",
      " '0' '0' '0' '0' '0' '0' '0' '0' '0' '1' '1' '0' '1' '1' '0' '0' '0' '0'\n",
      " '0' '1' '0' '1' '1' '0' '0' '1' '1' '1' '1' '0']\n",
      "['1' '0' '1' '0' '1' '0' '1' '0' '1' '0' '1' '0' '1' '0' '1' '0' '0' '0'\n",
      " '0' '0' '0' '0' '0' '0' '0' '0' '0' '1' '1' '0' '1' '1' '0' '0' '0' '0'\n",
      " '0' '1' '0' '1' '1' '0' '0' '1' '1' '1' '1' '0']\n",
      "['1' '0' '1' '0' '1' '0' '1' '0' '1' '0' '1' '0' '1' '0' '1' '0' '0' '0'\n",
      " '0' '0' '0' '0' '0' '0' '0' '0' '0' '1' '1' '0' '1' '1' '0' '0' '0' '0'\n",
      " '0' '1' '0' '1' '1' '0' '0' '1' '1' '1' '1' '0']\n",
      "['1' '0' '1' '0' '1' '0' '1' '0' '1' '0' '1' '0' '1' '0' '1' '0' '0' '0'\n",
      " '0' '0' '0' '0' '0' '0' '0' '0' '0' '1' '1' '0' '1' '1' '0' '0' '0' '0'\n",
      " '0' '1' '0' '1' '1' '0' '0' '1' '1' '1' '1' '0']\n",
      "['1' '0' '1' '0' '1' '0' '1' '0' '1' '0' '1' '0' '1' '0' '1' '0' '0' '0'\n",
      " '0' '0' '0' '0' '0' '0' '0' '0' '0' '1' '1' '0' '1' '1' '0' '0' '0' '0'\n",
      " '0' '1' '0' '1' '1' '0' '0' '1' '1' '1' '1' '0']\n"
     ]
    }
   ],
   "source": [
    "#Embed the secret data\n",
    "embed_data(secret_data=secret_data,files=files,audio_path=audio_path,stego_path=stego_path)"
   ]
  },
  {
   "cell_type": "code",
   "execution_count": null,
   "metadata": {},
   "outputs": [
    {
     "name": "stdout",
     "output_type": "stream",
     "text": [
      "Sync Bits Matched at index: 7\n",
      "Frame Size Extracted as: 1770910\n",
      "------CHECKING HEADER BITS - EXTRACTION----------\n",
      "['0', '0', '0', '0', '0', '0', '0', '1', '0', '1', '1', '1', '0', '0', '0', '0', '0', '0', '0', '1', '0', '1', '1', '0', '1', '0', '1', '0', '0', '1', '1', '1', '0', '0', '0', '0', '0', '1', '1', '0', '0', '1', '1', '1', '0', '0', '1', '0', '0', '0', '0', '0', '0', '0', '0', '1', '1', '0', '1', '0', '1', '0', '1', '1', '0', '0', '1', '0', '1', '0', '0', '0', '0', '0', '0', '0', '1', '1', '0', '0', '0', '0', '0', '0', '0', '0', '0', '1', '1', '0', '0', '1', '0', '0', '0', '0', '0', '1', '0', '1', '0', '0', '0', '0', '0', '0', '0', '0', '0', '0', '1', '0']\n",
      "------END OF CHECKING HEADER BITS - EXTRACTION----------\n",
      "------CHECKING DECODED HEADER - EXTRACTION----------\n",
      "{'version': 1, 'header_length': 112, 'file_count': 1, 'two_bit_qim': 1, 'files': [{'file_type': 'jpg', 'height': 427, 'width': 640, 'channels': 3, 'payload_length': 6558720}]}\n",
      "------END OF CHECKING DECODED HEADER - EXTRACTION----------\n",
      "Extracted Data Length:6558720\n"
     ]
    }
   ],
   "source": [
    "#Extract the secret data\n",
    "extracted_data = extract_data(audio_path=\"uploads/song_cropped.wav\",extracted_data_path=extracted_data_path)"
   ]
  },
  {
   "cell_type": "code",
   "execution_count": 7,
   "metadata": {},
   "outputs": [
    {
     "name": "stdout",
     "output_type": "stream",
     "text": [
      "Mismatch location: 69960\n",
      "Mismatch location: 218527\n",
      "Mismatch location: 218528\n",
      "Mismatch location: 218532\n",
      "Mismatch location: 218537\n",
      "Mismatch location: 218538\n",
      "Mismatch location: 218543\n",
      "Mismatch location: 218545\n",
      "Mismatch location: 218546\n",
      "Mismatch location: 218547\n",
      "Mismatch location: 218548\n",
      "Mismatch location: 218550\n",
      "Mismatch location: 218551\n",
      "Mismatch location: 218553\n",
      "Mismatch location: 218555\n",
      "Mismatch location: 218559\n",
      "Mismatch location: 218560\n",
      "Mismatch location: 218561\n",
      "Mismatch location: 218562\n",
      "Mismatch location: 218563\n",
      "Mismatch location: 218564\n",
      "Mismatch location: 218566\n",
      "Mismatch location: 218567\n",
      "Mismatch location: 218569\n",
      "Mismatch location: 218571\n",
      "Mismatch location: 218572\n",
      "Mismatch location: 218574\n",
      "Mismatch location: 218577\n",
      "Mismatch location: 218579\n",
      "Mismatch location: 218580\n",
      "Mismatch location: 218581\n",
      "Mismatch location: 218582\n",
      "Mismatch location: 218584\n",
      "Mismatch location: 218588\n",
      "Mismatch location: 218589\n",
      "Mismatch location: 218592\n",
      "Mismatch location: 218593\n",
      "Mismatch location: 218594\n",
      "Mismatch location: 218595\n",
      "Mismatch location: 218597\n",
      "Mismatch location: 218598\n",
      "Mismatch location: 218599\n",
      "Mismatch location: 218600\n",
      "Mismatch location: 218602\n",
      "Mismatch location: 218604\n",
      "Mismatch location: 218606\n",
      "Mismatch location: 218607\n",
      "Mismatch location: 218608\n",
      "Mismatch location: 218609\n",
      "Mismatch location: 218611\n",
      "Mismatch location: 218612\n",
      "Mismatch location: 218614\n",
      "Mismatch location: 218615\n",
      "Mismatch location: 218620\n",
      "Mismatch location: 218622\n",
      "Mismatch location: 218624\n",
      "Mismatch location: 234459\n",
      "Mismatch location: 394523\n",
      "Mismatch location: 1290323\n",
      "Mismatch location: 1325350\n",
      "Mismatch location: 1325351\n",
      "Mismatch location: 1894969\n",
      "Mismatch location: 2216907\n",
      "Mismatch location: 3332964\n",
      "Mismatch location: 3332965\n",
      "Mismatch location: 3381252\n",
      "Mismatch location: 3699890\n",
      "Mismatch location: 3699891\n",
      "Mismatch location: 3817165\n",
      "Mismatch location: 3935134\n",
      "Mismatch location: 3935138\n",
      "Mismatch location: 3935139\n",
      "Mismatch location: 3935145\n",
      "Mismatch location: 4569752\n",
      "Mismatch location: 4809644\n",
      "Mismatch location: 4809646\n",
      "Mismatch location: 4809647\n",
      "Mismatch location: 4809648\n",
      "Mismatch location: 4809650\n",
      "Mismatch location: 4809651\n",
      "Mismatch location: 4809652\n",
      "Mismatch location: 4809653\n",
      "Mismatch location: 4809655\n",
      "Mismatch location: 4809658\n",
      "Mismatch location: 4809659\n",
      "Mismatch location: 4809661\n",
      "Mismatch location: 4809666\n",
      "Mismatch location: 4809668\n",
      "Mismatch location: 4809670\n",
      "Mismatch location: 4809671\n",
      "Mismatch location: 6558662\n",
      "Mismatch location: 6558665\n",
      "Mismatch location: 6558668\n",
      "Mismatch location: 6558670\n",
      "Mismatch location: 6558671\n",
      "Mismatch location: 6558672\n",
      "Mismatch location: 6558674\n",
      "Mismatch location: 6558676\n",
      "Mismatch location: 6558677\n",
      "Mismatch location: 6558678\n",
      "Mismatch location: 6558680\n",
      "Mismatch location: 6558681\n",
      "Mismatch location: 6558682\n",
      "Mismatch location: 6558684\n",
      "Mismatch location: 6558685\n",
      "Mismatch location: 6558687\n",
      "Mismatch location: 6558689\n",
      "Mismatch location: 6558690\n",
      "Mismatch location: 6558691\n",
      "Mismatch location: 6558695\n",
      "Mismatch location: 6558700\n",
      "Mismatch location: 6558701\n",
      "Mismatch location: 6558704\n",
      "Mismatch location: 6558705\n",
      "Mismatch location: 6558706\n",
      "Mismatch location: 6558712\n",
      "Mismatch location: 6558713\n",
      "Mismatch location: 6558714\n",
      "Mismatch location: 6558717\n",
      "Mismatch location: 6558718\n",
      "Number of mismatched bits:120\n"
     ]
    }
   ],
   "source": [
    "check_bits_alteration(original=secret_data, extracted=extracted_data)"
   ]
  }
 ],
 "metadata": {
  "kernelspec": {
   "display_name": "myenv",
   "language": "python",
   "name": "python3"
  },
  "language_info": {
   "codemirror_mode": {
    "name": "ipython",
    "version": 3
   },
   "file_extension": ".py",
   "mimetype": "text/x-python",
   "name": "python",
   "nbconvert_exporter": "python",
   "pygments_lexer": "ipython3",
   "version": "3.12.8"
  }
 },
 "nbformat": 4,
 "nbformat_minor": 2
}
